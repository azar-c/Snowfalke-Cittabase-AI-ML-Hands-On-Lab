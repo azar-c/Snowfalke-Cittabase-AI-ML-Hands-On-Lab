{
 "metadata": {
  "kernelspec": {
   "display_name": "Streamlit Notebook",
   "name": "streamlit"
  },
  "lastEditStatus": {
   "notebookId": "4qx3oc3ktgr6owv4o5mk",
   "authorId": "2001480346171",
   "authorName": "AZAR",
   "authorEmail": "azar.mohammed@cittabase.com",
   "sessionId": "137123de-c2e3-4494-9017-35d9f0f75aa1",
   "lastEditTime": 1750113051142
  }
 },
 "nbformat_minor": 5,
 "nbformat": 4,
 "cells": [
  {
   "cell_type": "markdown",
   "id": "da9eb39a-9616-4f56-966a-a364155157b4",
   "metadata": {
    "name": "cell11",
    "collapsed": false
   },
   "source": "### Setting Up the Database and Stage "
  },
  {
   "cell_type": "code",
   "id": "3775908f-ca36-4846-8f38-5adca39217f2",
   "metadata": {
    "language": "sql",
    "name": "cell1"
   },
   "source": "-- Create Stage for Analyst\n\nCREATE DATABASE CHATBOT_WORKSHOP_DB;\n\n\nCREATE OR REPLACE STAGE CORTEX_ANALYST_STG ENCRYPTION = (TYPE = 'SNOWFLAKE_SSE') DIRECTORY = ( ENABLE = true );\n\ncreate or replace TABLE CHATBOT_WORKSHOP_DB.PUBLIC.ZENITH_MERIDIAN_SUPPORT_CALLS (\n\tTICKET_ID NUMBER(38,0),\n\tTICKET_STATUS VARCHAR(16777216),\n\tRESOLUTION_NOTES VARCHAR(16777216),\n\tCHANNEL VARCHAR(16777216),\n\tSENTIMENT VARCHAR(16777216),\n\tFIRST_CONTACT_RESOLUTION BOOLEAN,\n\tFOLLOW_UP_REQUIRED BOOLEAN,\n\tESCALATED BOOLEAN,\n\tPRODUCT_CATEGORY VARCHAR(16777216),\n\tRESPONSE_TIME_SECONDS NUMBER(38,0),\n\tCALL_DURATION_SECONDS NUMBER(38,0)\n);\n",
   "execution_count": null,
   "outputs": []
  },
  {
   "cell_type": "code",
   "id": "8d50cbf4-0c8d-4950-86cb-114990437ac9",
   "metadata": {
    "language": "sql",
    "name": "cell2"
   },
   "source": "-- Create table \nCREATE OR REPLACE STAGE CORTEX_ANALYST_EXT_STG\nurl = 's3://holworkshopbucket/cortex-analyst/'\nfile_format = (type = csv);",
   "execution_count": null,
   "outputs": []
  },
  {
   "cell_type": "code",
   "id": "c695373e-ac74-4b62-a1f1-08206cbd5c81",
   "metadata": {
    "language": "sql",
    "name": "cell3",
    "codeCollapsed": false
   },
   "source": "USE DATABASE chatbot_workshop_db;\n\nLIST @CORTEX_ANALYST_EXT_STG;",
   "execution_count": null,
   "outputs": []
  },
  {
   "cell_type": "markdown",
   "id": "ebcc224b-f4fa-4a45-ac90-c094b83caf0b",
   "metadata": {
    "name": "cell12",
    "collapsed": false
   },
   "source": "### Loading the Data into Snowflake Table For the Analyst to Ask Questions"
  },
  {
   "cell_type": "code",
   "id": "54610cf3-a5bf-4b7f-a2a8-495046b351ce",
   "metadata": {
    "language": "python",
    "name": "cell7",
    "codeCollapsed": false
   },
   "outputs": [],
   "source": "# Imports the Snowpark library, which provides the functionality to work with DataFrames in a Snowflake environment.\nimport snowflake.snowpark as snowpark \n\n# Imports types that are used to define the schema of the DataFrame\nfrom snowflake.snowpark.types import StructType, StructField, IntegerType, StringType \n\n# Imports the function to retrieve the active Snowpark session, which is necessary for executing Snowpark operations.\nfrom snowflake.snowpark.context import get_active_session\n\n# This line retrieves the currently active Snowpark session, which is used to perform operations like reading data from Snowflake.\nsession = get_active_session()\n\n\ncsv_file_path = \"@CORTEX_ANALYST_EXT_STG/zenith_meridian_support_calls_dataset.csv\"\n\ndataframe = session.read.options({\n        \"skip_header\": 1\n    }).csv(csv_file_path)\n\n\ndataframe.write.insert_into(\"ZENITH_MERIDIAN_SUPPORT_CALLS\")\nsession.table(\"ZENITH_MERIDIAN_SUPPORT_CALLS\").collect()",
   "execution_count": null
  },
  {
   "cell_type": "code",
   "id": "31367f93-dc4a-4720-ad37-54aeb37246d6",
   "metadata": {
    "language": "sql",
    "name": "cell8"
   },
   "outputs": [],
   "source": "select * from ZENITH_MERIDIAN_SUPPORT_CALLS;",
   "execution_count": null
  },
  {
   "cell_type": "markdown",
   "id": "d3235f0c-4244-49e8-a48a-27b794bcf714",
   "metadata": {
    "name": "cell13",
    "collapsed": false
   },
   "source": "### Configuring Semantic Model - YAML File to Help the Cortex Analyst to understand our snowflake data table/tables."
  },
  {
   "cell_type": "code",
   "id": "3416f33b-b4eb-4c03-b8b8-18e2c3fba57b",
   "metadata": {
    "language": "sql",
    "name": "cell4",
    "codeCollapsed": false
   },
   "outputs": [],
   "source": "COPY FILES INTO @CORTEX_ANALYST_STG FROM @CORTEX_ANALYST_EXT_STG/ticket.yaml;",
   "execution_count": null
  },
  {
   "cell_type": "code",
   "id": "82ae2b3d-d42e-4f59-a688-1b43d5fdd3c2",
   "metadata": {
    "language": "sql",
    "name": "cell5"
   },
   "outputs": [],
   "source": "LIST @CORTEX_ANALYST_STG;",
   "execution_count": null
  },
  {
   "cell_type": "markdown",
   "id": "4b0cbd77-6a73-40af-a4a5-e159f352b5ad",
   "metadata": {
    "name": "cell14",
    "collapsed": false
   },
   "source": "### Questions\n\n1.Top 2 products with high average call duration \\\n2.Show the top 3 Categories which has the most open tickets \\\n3.Which Channel has the lowest average call duration"
  },
  {
   "cell_type": "code",
   "id": "ab3383b3-0cb6-4b09-bbf9-064caae4a7f0",
   "metadata": {
    "language": "sql",
    "name": "cell6"
   },
   "outputs": [],
   "source": "ALTER ACCOUNT SET CORTEX_ENABLED_CROSS_REGION = 'AWS_US';",
   "execution_count": null
  },
  {
   "cell_type": "code",
   "id": "3e3a08ba-7635-4a78-931a-12510645d5c3",
   "metadata": {
    "language": "sql",
    "name": "cell9"
   },
   "outputs": [],
   "source": "WITH __zenith_meridian_support_calls AS (\n  SELECT\n    product_category,\n    call_duration_seconds\n  FROM chatbot_workshop_db.public.zenith_meridian_support_calls\n)\nSELECT\n  product_category,\n  AVG(call_duration_seconds) AS avg_call_duration\nFROM __zenith_meridian_support_calls\nGROUP BY\n  product_category\nORDER BY\n  avg_call_duration DESC NULLS LAST\nLIMIT 2\n -- Generated by Cortex Analyst\n;",
   "execution_count": null
  },
  {
   "cell_type": "code",
   "id": "0ef88887-d8c8-4b6a-94d2-331065b241e6",
   "metadata": {
    "language": "sql",
    "name": "cell10"
   },
   "outputs": [],
   "source": "WITH __zenith_meridian_support_calls AS (\n  SELECT\n    sentiment,\n    product_category\n  FROM chatbot_workshop_db.public.zenith_meridian_support_calls\n)\nSELECT\n  product_category,\n  COUNT(*) AS negative_sentiment_count\nFROM __zenith_meridian_support_calls\nWHERE\n  sentiment = 'Negative'\nGROUP BY\n  product_category\nORDER BY\n  negative_sentiment_count DESC NULLS LAST\nLIMIT 1\n -- Generated by Cortex Analyst\n;",
   "execution_count": null
  },
  {
   "cell_type": "code",
   "id": "16102db3-e69f-4ba1-977e-54d0d755cf45",
   "metadata": {
    "language": "sql",
    "name": "cell15"
   },
   "outputs": [],
   "source": "WITH __zenith_meridian_support_calls AS (\n  SELECT\n    channel,\n    call_duration_seconds\n  FROM chatbot_workshop_db.public.zenith_meridian_support_calls\n)\nSELECT\n  channel,\n  AVG(call_duration_seconds) AS avg_call_duration\nFROM __zenith_meridian_support_calls\nGROUP BY\n  channel\nORDER BY\n  avg_call_duration ASC\nLIMIT 1\n -- Generated by Cortex Analyst\n;",
   "execution_count": null
  }
 ]
}